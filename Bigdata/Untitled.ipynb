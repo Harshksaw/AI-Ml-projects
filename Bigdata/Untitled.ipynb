{
 "cells": [
  {
   "cell_type": "code",
   "execution_count": 1,
   "id": "6325316e",
   "metadata": {},
   "outputs": [
    {
     "ename": "ModuleNotFoundError",
     "evalue": "No module named 'pyspark'",
     "output_type": "error",
     "traceback": [
      "\u001b[0;31m---------------------------------------------------------------------------\u001b[0m",
      "\u001b[0;31mModuleNotFoundError\u001b[0m                       Traceback (most recent call last)",
      "Cell \u001b[0;32mIn[1], line 1\u001b[0m\n\u001b[0;32m----> 1\u001b[0m \u001b[38;5;28;01mfrom\u001b[39;00m \u001b[38;5;21;01mpyspark\u001b[39;00m\u001b[38;5;21;01m.\u001b[39;00m\u001b[38;5;21;01msql\u001b[39;00m \u001b[38;5;28;01mimport\u001b[39;00m SparkSession\n",
      "\u001b[0;31mModuleNotFoundError\u001b[0m: No module named 'pyspark'"
     ]
    }
   ],
   "source": [
    "from pyspark.sql import SparkSession"
   ]
  },
  {
   "cell_type": "code",
   "execution_count": 7,
   "id": "baa23a08",
   "metadata": {},
   "outputs": [],
   "source": [
    "spark=SparkSession.builder.appName('cardata').getOrCreate()"
   ]
  },
  {
   "cell_type": "code",
   "execution_count": 8,
   "id": "7c5e4678",
   "metadata": {},
   "outputs": [
    {
     "data": {
      "text/html": [
       "\n",
       "            <div>\n",
       "                <p><b>SparkSession - in-memory</b></p>\n",
       "                \n",
       "        <div>\n",
       "            <p><b>SparkContext</b></p>\n",
       "\n",
       "            <p><a href=\"http://LAPTOP-AMIVJC0N:4040\">Spark UI</a></p>\n",
       "\n",
       "            <dl>\n",
       "              <dt>Version</dt>\n",
       "                <dd><code>v3.4.1</code></dd>\n",
       "              <dt>Master</dt>\n",
       "                <dd><code>local[*]</code></dd>\n",
       "              <dt>AppName</dt>\n",
       "                <dd><code>cardata</code></dd>\n",
       "            </dl>\n",
       "        </div>\n",
       "        \n",
       "            </div>\n",
       "        "
      ],
      "text/plain": [
       "<pyspark.sql.session.SparkSession at 0x2916c5a5760>"
      ]
     },
     "execution_count": 8,
     "metadata": {},
     "output_type": "execute_result"
    }
   ],
   "source": [
    "spark"
   ]
  },
  {
   "cell_type": "code",
   "execution_count": 9,
   "id": "c5db38d8",
   "metadata": {},
   "outputs": [],
   "source": [
    "df_pyspark=spark.read.option('header','true').csv('cardekho_dataset.csv',inferSchema=True)"
   ]
  },
  {
   "cell_type": "code",
   "execution_count": 10,
   "id": "04e8f500",
   "metadata": {},
   "outputs": [
    {
     "name": "stdout",
     "output_type": "stream",
     "text": [
      "root\n",
      " |-- _c0: integer (nullable = true)\n",
      " |-- car_name: string (nullable = true)\n",
      " |-- brand: string (nullable = true)\n",
      " |-- model: string (nullable = true)\n",
      " |-- vehicle_age: integer (nullable = true)\n",
      " |-- km_driven: integer (nullable = true)\n",
      " |-- seller_type: string (nullable = true)\n",
      " |-- fuel_type: string (nullable = true)\n",
      " |-- transmission_type: string (nullable = true)\n",
      " |-- mileage: double (nullable = true)\n",
      " |-- engine: integer (nullable = true)\n",
      " |-- max_power: double (nullable = true)\n",
      " |-- seats: integer (nullable = true)\n",
      " |-- selling_price: integer (nullable = true)\n",
      "\n"
     ]
    }
   ],
   "source": [
    "df_pyspark.printSchema()"
   ]
  },
  {
   "cell_type": "code",
   "execution_count": null,
   "id": "547786f9",
   "metadata": {},
   "outputs": [],
   "source": []
  },
  {
   "cell_type": "code",
   "execution_count": 12,
   "id": "f07be805",
   "metadata": {},
   "outputs": [],
   "source": [
    "df_pyspark=spark.read.csv('cardekho_dataset.csv',header=True,inferSchema=True)"
   ]
  },
  {
   "cell_type": "code",
   "execution_count": 13,
   "id": "2b60c6f1",
   "metadata": {},
   "outputs": [
    {
     "name": "stdout",
     "output_type": "stream",
     "text": [
      "root\n",
      " |-- _c0: integer (nullable = true)\n",
      " |-- car_name: string (nullable = true)\n",
      " |-- brand: string (nullable = true)\n",
      " |-- model: string (nullable = true)\n",
      " |-- vehicle_age: integer (nullable = true)\n",
      " |-- km_driven: integer (nullable = true)\n",
      " |-- seller_type: string (nullable = true)\n",
      " |-- fuel_type: string (nullable = true)\n",
      " |-- transmission_type: string (nullable = true)\n",
      " |-- mileage: double (nullable = true)\n",
      " |-- engine: integer (nullable = true)\n",
      " |-- max_power: double (nullable = true)\n",
      " |-- seats: integer (nullable = true)\n",
      " |-- selling_price: integer (nullable = true)\n",
      "\n"
     ]
    }
   ],
   "source": [
    "df_pyspark.printSchema()"
   ]
  },
  {
   "cell_type": "code",
   "execution_count": 15,
   "id": "86a3d769",
   "metadata": {},
   "outputs": [
    {
     "name": "stdout",
     "output_type": "stream",
     "text": [
      "+---+--------------------+-------------+-----------+-----------+---------+-----------+---------+-----------------+-------+------+---------+-----+-------------+\n",
      "|_c0|            car_name|        brand|      model|vehicle_age|km_driven|seller_type|fuel_type|transmission_type|mileage|engine|max_power|seats|selling_price|\n",
      "+---+--------------------+-------------+-----------+-----------+---------+-----------+---------+-----------------+-------+------+---------+-----+-------------+\n",
      "|  0|         Maruti Alto|       Maruti|       Alto|          9|   120000| Individual|   Petrol|           Manual|   19.7|   796|     46.3|    5|       120000|\n",
      "|  1|       Hyundai Grand|      Hyundai|      Grand|          5|    20000| Individual|   Petrol|           Manual|   18.9|  1197|     82.0|    5|       550000|\n",
      "|  2|         Hyundai i20|      Hyundai|        i20|         11|    60000| Individual|   Petrol|           Manual|   17.0|  1197|     80.0|    5|       215000|\n",
      "|  3|         Maruti Alto|       Maruti|       Alto|          9|    37000| Individual|   Petrol|           Manual|  20.92|   998|     67.1|    5|       226000|\n",
      "|  4|       Ford Ecosport|         Ford|   Ecosport|          6|    30000|     Dealer|   Diesel|           Manual|  22.77|  1498|    98.59|    5|       570000|\n",
      "|  5|      Maruti Wagon R|       Maruti|    Wagon R|          8|    35000| Individual|   Petrol|           Manual|   18.9|   998|     67.1|    5|       350000|\n",
      "|  6|         Hyundai i10|      Hyundai|        i10|          8|    40000|     Dealer|   Petrol|           Manual|  20.36|  1197|     78.9|    5|       315000|\n",
      "|  7|      Maruti Wagon R|       Maruti|    Wagon R|          3|    17512|     Dealer|   Petrol|           Manual|  20.51|   998|    67.04|    5|       410000|\n",
      "|  8|       Hyundai Venue|      Hyundai|      Venue|          2|    20000| Individual|   Petrol|        Automatic|  18.15|   998|   118.35|    5|      1050000|\n",
      "| 12|        Maruti Swift|       Maruti|      Swift|          4|    28321|     Dealer|   Petrol|           Manual|   16.6|  1197|     85.0|    5|       511000|\n",
      "| 14|       Hyundai Verna|      Hyundai|      Verna|          8|    65278|     Dealer|   Diesel|           Manual|  22.32|  1582|   126.32|    5|       425000|\n",
      "| 15|      Renault Duster|      Renault|     Duster|          5|    50000| Individual|   Diesel|           Manual|  19.64|  1461|   108.45|    5|       750000|\n",
      "| 16|         Mini Cooper|         Mini|     Cooper|          4|     6000|     Dealer|   Petrol|        Automatic|  14.41|  1998|   189.08|    5|      3250000|\n",
      "| 17|         Maruti Ciaz|       Maruti|       Ciaz|          5|    76000|     Dealer|   Diesel|           Manual|  28.09|  1248|     88.5|    5|       650000|\n",
      "| 18|        Maruti Swift|       Maruti|      Swift|          5|    20000| Individual|   Diesel|           Manual|   25.2|  1248|     74.0|    5|       627000|\n",
      "| 19|Mercedes-Benz C-C...|Mercedes-Benz|    C-Class|          7|    65000|     Dealer|   Diesel|        Automatic|  19.27|  2143|    170.0|    5|      1425000|\n",
      "| 20|        Maruti Swift|       Maruti|      Swift|          7|    62200|     Dealer|   Diesel|           Manual|   28.4|  1248|     74.0|    5|       425000|\n",
      "| 21|       Toyota Innova|       Toyota|     Innova|          8|   110000| Individual|   Diesel|           Manual|  12.99|  2494|    100.6|    8|       605000|\n",
      "| 22|       Maruti Baleno|       Maruti|     Baleno|          6|    20000| Individual|   Petrol|           Manual|   21.4|  1197|     83.1|    5|       600000|\n",
      "| 23|  Maruti Swift Dzire|       Maruti|Swift Dzire|          5|    40000| Individual|   Petrol|           Manual|  20.85|  1197|    83.14|    5|       575000|\n",
      "+---+--------------------+-------------+-----------+-----------+---------+-----------+---------+-----------------+-------+------+---------+-----+-------------+\n",
      "only showing top 20 rows\n",
      "\n"
     ]
    }
   ],
   "source": [
    "df_pyspark.show()"
   ]
  },
  {
   "cell_type": "code",
   "execution_count": 16,
   "id": "4dea2198",
   "metadata": {},
   "outputs": [
    {
     "data": {
      "text/plain": [
       "pyspark.sql.dataframe.DataFrame"
      ]
     },
     "execution_count": 16,
     "metadata": {},
     "output_type": "execute_result"
    }
   ],
   "source": [
    "type(df_pyspark)"
   ]
  },
  {
   "cell_type": "code",
   "execution_count": 17,
   "id": "201c8abb",
   "metadata": {},
   "outputs": [
    {
     "name": "stdout",
     "output_type": "stream",
     "text": [
      "+--------------------+-------------+\n",
      "|            car_name|        brand|\n",
      "+--------------------+-------------+\n",
      "|         Maruti Alto|       Maruti|\n",
      "|       Hyundai Grand|      Hyundai|\n",
      "|         Hyundai i20|      Hyundai|\n",
      "|         Maruti Alto|       Maruti|\n",
      "|       Ford Ecosport|         Ford|\n",
      "|      Maruti Wagon R|       Maruti|\n",
      "|         Hyundai i10|      Hyundai|\n",
      "|      Maruti Wagon R|       Maruti|\n",
      "|       Hyundai Venue|      Hyundai|\n",
      "|        Maruti Swift|       Maruti|\n",
      "|       Hyundai Verna|      Hyundai|\n",
      "|      Renault Duster|      Renault|\n",
      "|         Mini Cooper|         Mini|\n",
      "|         Maruti Ciaz|       Maruti|\n",
      "|        Maruti Swift|       Maruti|\n",
      "|Mercedes-Benz C-C...|Mercedes-Benz|\n",
      "|        Maruti Swift|       Maruti|\n",
      "|       Toyota Innova|       Toyota|\n",
      "|       Maruti Baleno|       Maruti|\n",
      "|  Maruti Swift Dzire|       Maruti|\n",
      "+--------------------+-------------+\n",
      "only showing top 20 rows\n",
      "\n"
     ]
    }
   ],
   "source": [
    "df_pyspark.select(['car_name','brand']).show()"
   ]
  },
  {
   "cell_type": "code",
   "execution_count": 20,
   "id": "b1738603",
   "metadata": {},
   "outputs": [
    {
     "data": {
      "text/plain": [
       "[('_c0', 'int'),\n",
       " ('car_name', 'string'),\n",
       " ('brand', 'string'),\n",
       " ('model', 'string'),\n",
       " ('vehicle_age', 'int'),\n",
       " ('km_driven', 'int'),\n",
       " ('seller_type', 'string'),\n",
       " ('fuel_type', 'string'),\n",
       " ('transmission_type', 'string'),\n",
       " ('mileage', 'double'),\n",
       " ('engine', 'int'),\n",
       " ('max_power', 'double'),\n",
       " ('seats', 'int'),\n",
       " ('selling_price', 'int')]"
      ]
     },
     "execution_count": 20,
     "metadata": {},
     "output_type": "execute_result"
    }
   ],
   "source": [
    "df_pyspark.dtypes"
   ]
  },
  {
   "cell_type": "code",
   "execution_count": 21,
   "id": "2fb62cf9",
   "metadata": {},
   "outputs": [
    {
     "name": "stdout",
     "output_type": "stream",
     "text": [
      "+-------+-----------------+----------+-----+------------------+------------------+-----------------+----------------+---------+-----------------+------------------+------------------+-----------------+-----------------+-----------------+\n",
      "|summary|              _c0|  car_name|brand|             model|       vehicle_age|        km_driven|     seller_type|fuel_type|transmission_type|           mileage|            engine|        max_power|            seats|    selling_price|\n",
      "+-------+-----------------+----------+-----+------------------+------------------+-----------------+----------------+---------+-----------------+------------------+------------------+-----------------+-----------------+-----------------+\n",
      "|  count|            15411|     15411|15411|             15411|             15411|            15411|           15411|    15411|            15411|             15411|             15411|            15411|            15411|            15411|\n",
      "|   mean|9811.857699046135|      null| null|4.3476923076923075|6.0363376808772955|55616.48063071832|            null|     null|             null|19.701151125819095|1486.0577509571085|100.5882538446622|5.325481798715203|774971.1164103562|\n",
      "| stddev|5643.418541882794|      null| null|1.4007391889297625| 3.013291461417931|51618.54842178997|            null|     null|             null| 4.171264603904163| 521.1066956281886|42.97297907656083|0.807628428967241|894128.3632627012|\n",
      "|    min|                0|   Audi A4| Audi|                 3|                 0|              100|          Dealer|      CNG|        Automatic|               4.0|               793|             38.4|                0|            40000|\n",
      "|    max|            19543|Volvo XC90|Volvo|           redi-GO|                29|          3800000|Trustmark Dealer|   Petrol|           Manual|             33.54|              6592|            626.0|                9|         39500000|\n",
      "+-------+-----------------+----------+-----+------------------+------------------+-----------------+----------------+---------+-----------------+------------------+------------------+-----------------+-----------------+-----------------+\n",
      "\n"
     ]
    }
   ],
   "source": [
    "df_pyspark.describe().show()"
   ]
  },
  {
   "cell_type": "code",
   "execution_count": 22,
   "id": "dae7fda2",
   "metadata": {},
   "outputs": [],
   "source": [
    "df_pyspark=df_pyspark.withColumn('selling_price_after_2_years',df_pyspark['selling_price']*100)"
   ]
  },
  {
   "cell_type": "code",
   "execution_count": 23,
   "id": "60bb120f",
   "metadata": {},
   "outputs": [
    {
     "name": "stdout",
     "output_type": "stream",
     "text": [
      "+---+--------------------+-------------+-----------+-----------+---------+-----------+---------+-----------------+-------+------+---------+-----+-------------+---------------------------+\n",
      "|_c0|            car_name|        brand|      model|vehicle_age|km_driven|seller_type|fuel_type|transmission_type|mileage|engine|max_power|seats|selling_price|selling_price_after_2_years|\n",
      "+---+--------------------+-------------+-----------+-----------+---------+-----------+---------+-----------------+-------+------+---------+-----+-------------+---------------------------+\n",
      "|  0|         Maruti Alto|       Maruti|       Alto|          9|   120000| Individual|   Petrol|           Manual|   19.7|   796|     46.3|    5|       120000|                   12000000|\n",
      "|  1|       Hyundai Grand|      Hyundai|      Grand|          5|    20000| Individual|   Petrol|           Manual|   18.9|  1197|     82.0|    5|       550000|                   55000000|\n",
      "|  2|         Hyundai i20|      Hyundai|        i20|         11|    60000| Individual|   Petrol|           Manual|   17.0|  1197|     80.0|    5|       215000|                   21500000|\n",
      "|  3|         Maruti Alto|       Maruti|       Alto|          9|    37000| Individual|   Petrol|           Manual|  20.92|   998|     67.1|    5|       226000|                   22600000|\n",
      "|  4|       Ford Ecosport|         Ford|   Ecosport|          6|    30000|     Dealer|   Diesel|           Manual|  22.77|  1498|    98.59|    5|       570000|                   57000000|\n",
      "|  5|      Maruti Wagon R|       Maruti|    Wagon R|          8|    35000| Individual|   Petrol|           Manual|   18.9|   998|     67.1|    5|       350000|                   35000000|\n",
      "|  6|         Hyundai i10|      Hyundai|        i10|          8|    40000|     Dealer|   Petrol|           Manual|  20.36|  1197|     78.9|    5|       315000|                   31500000|\n",
      "|  7|      Maruti Wagon R|       Maruti|    Wagon R|          3|    17512|     Dealer|   Petrol|           Manual|  20.51|   998|    67.04|    5|       410000|                   41000000|\n",
      "|  8|       Hyundai Venue|      Hyundai|      Venue|          2|    20000| Individual|   Petrol|        Automatic|  18.15|   998|   118.35|    5|      1050000|                  105000000|\n",
      "| 12|        Maruti Swift|       Maruti|      Swift|          4|    28321|     Dealer|   Petrol|           Manual|   16.6|  1197|     85.0|    5|       511000|                   51100000|\n",
      "| 14|       Hyundai Verna|      Hyundai|      Verna|          8|    65278|     Dealer|   Diesel|           Manual|  22.32|  1582|   126.32|    5|       425000|                   42500000|\n",
      "| 15|      Renault Duster|      Renault|     Duster|          5|    50000| Individual|   Diesel|           Manual|  19.64|  1461|   108.45|    5|       750000|                   75000000|\n",
      "| 16|         Mini Cooper|         Mini|     Cooper|          4|     6000|     Dealer|   Petrol|        Automatic|  14.41|  1998|   189.08|    5|      3250000|                  325000000|\n",
      "| 17|         Maruti Ciaz|       Maruti|       Ciaz|          5|    76000|     Dealer|   Diesel|           Manual|  28.09|  1248|     88.5|    5|       650000|                   65000000|\n",
      "| 18|        Maruti Swift|       Maruti|      Swift|          5|    20000| Individual|   Diesel|           Manual|   25.2|  1248|     74.0|    5|       627000|                   62700000|\n",
      "| 19|Mercedes-Benz C-C...|Mercedes-Benz|    C-Class|          7|    65000|     Dealer|   Diesel|        Automatic|  19.27|  2143|    170.0|    5|      1425000|                  142500000|\n",
      "| 20|        Maruti Swift|       Maruti|      Swift|          7|    62200|     Dealer|   Diesel|           Manual|   28.4|  1248|     74.0|    5|       425000|                   42500000|\n",
      "| 21|       Toyota Innova|       Toyota|     Innova|          8|   110000| Individual|   Diesel|           Manual|  12.99|  2494|    100.6|    8|       605000|                   60500000|\n",
      "| 22|       Maruti Baleno|       Maruti|     Baleno|          6|    20000| Individual|   Petrol|           Manual|   21.4|  1197|     83.1|    5|       600000|                   60000000|\n",
      "| 23|  Maruti Swift Dzire|       Maruti|Swift Dzire|          5|    40000| Individual|   Petrol|           Manual|  20.85|  1197|    83.14|    5|       575000|                   57500000|\n",
      "+---+--------------------+-------------+-----------+-----------+---------+-----------+---------+-----------------+-------+------+---------+-----+-------------+---------------------------+\n",
      "only showing top 20 rows\n",
      "\n"
     ]
    }
   ],
   "source": [
    "df_pyspark.show()"
   ]
  },
  {
   "cell_type": "code",
   "execution_count": 24,
   "id": "7c9a7212",
   "metadata": {},
   "outputs": [],
   "source": [
    "df_pyspark=df_pyspark.drop('selling_price_after_2_years')"
   ]
  },
  {
   "cell_type": "code",
   "execution_count": 25,
   "id": "8543e077",
   "metadata": {},
   "outputs": [
    {
     "name": "stdout",
     "output_type": "stream",
     "text": [
      "+---+--------------------+-------------+-----------+-----------+---------+-----------+---------+-----------------+-------+------+---------+-----+-------------+\n",
      "|_c0|            car_name|        brand|      model|vehicle_age|km_driven|seller_type|fuel_type|transmission_type|mileage|engine|max_power|seats|selling_price|\n",
      "+---+--------------------+-------------+-----------+-----------+---------+-----------+---------+-----------------+-------+------+---------+-----+-------------+\n",
      "|  0|         Maruti Alto|       Maruti|       Alto|          9|   120000| Individual|   Petrol|           Manual|   19.7|   796|     46.3|    5|       120000|\n",
      "|  1|       Hyundai Grand|      Hyundai|      Grand|          5|    20000| Individual|   Petrol|           Manual|   18.9|  1197|     82.0|    5|       550000|\n",
      "|  2|         Hyundai i20|      Hyundai|        i20|         11|    60000| Individual|   Petrol|           Manual|   17.0|  1197|     80.0|    5|       215000|\n",
      "|  3|         Maruti Alto|       Maruti|       Alto|          9|    37000| Individual|   Petrol|           Manual|  20.92|   998|     67.1|    5|       226000|\n",
      "|  4|       Ford Ecosport|         Ford|   Ecosport|          6|    30000|     Dealer|   Diesel|           Manual|  22.77|  1498|    98.59|    5|       570000|\n",
      "|  5|      Maruti Wagon R|       Maruti|    Wagon R|          8|    35000| Individual|   Petrol|           Manual|   18.9|   998|     67.1|    5|       350000|\n",
      "|  6|         Hyundai i10|      Hyundai|        i10|          8|    40000|     Dealer|   Petrol|           Manual|  20.36|  1197|     78.9|    5|       315000|\n",
      "|  7|      Maruti Wagon R|       Maruti|    Wagon R|          3|    17512|     Dealer|   Petrol|           Manual|  20.51|   998|    67.04|    5|       410000|\n",
      "|  8|       Hyundai Venue|      Hyundai|      Venue|          2|    20000| Individual|   Petrol|        Automatic|  18.15|   998|   118.35|    5|      1050000|\n",
      "| 12|        Maruti Swift|       Maruti|      Swift|          4|    28321|     Dealer|   Petrol|           Manual|   16.6|  1197|     85.0|    5|       511000|\n",
      "| 14|       Hyundai Verna|      Hyundai|      Verna|          8|    65278|     Dealer|   Diesel|           Manual|  22.32|  1582|   126.32|    5|       425000|\n",
      "| 15|      Renault Duster|      Renault|     Duster|          5|    50000| Individual|   Diesel|           Manual|  19.64|  1461|   108.45|    5|       750000|\n",
      "| 16|         Mini Cooper|         Mini|     Cooper|          4|     6000|     Dealer|   Petrol|        Automatic|  14.41|  1998|   189.08|    5|      3250000|\n",
      "| 17|         Maruti Ciaz|       Maruti|       Ciaz|          5|    76000|     Dealer|   Diesel|           Manual|  28.09|  1248|     88.5|    5|       650000|\n",
      "| 18|        Maruti Swift|       Maruti|      Swift|          5|    20000| Individual|   Diesel|           Manual|   25.2|  1248|     74.0|    5|       627000|\n",
      "| 19|Mercedes-Benz C-C...|Mercedes-Benz|    C-Class|          7|    65000|     Dealer|   Diesel|        Automatic|  19.27|  2143|    170.0|    5|      1425000|\n",
      "| 20|        Maruti Swift|       Maruti|      Swift|          7|    62200|     Dealer|   Diesel|           Manual|   28.4|  1248|     74.0|    5|       425000|\n",
      "| 21|       Toyota Innova|       Toyota|     Innova|          8|   110000| Individual|   Diesel|           Manual|  12.99|  2494|    100.6|    8|       605000|\n",
      "| 22|       Maruti Baleno|       Maruti|     Baleno|          6|    20000| Individual|   Petrol|           Manual|   21.4|  1197|     83.1|    5|       600000|\n",
      "| 23|  Maruti Swift Dzire|       Maruti|Swift Dzire|          5|    40000| Individual|   Petrol|           Manual|  20.85|  1197|    83.14|    5|       575000|\n",
      "+---+--------------------+-------------+-----------+-----------+---------+-----------+---------+-----------------+-------+------+---------+-----+-------------+\n",
      "only showing top 20 rows\n",
      "\n"
     ]
    }
   ],
   "source": [
    "df_pyspark.show()"
   ]
  },
  {
   "cell_type": "code",
   "execution_count": 29,
   "id": "9cf895d9",
   "metadata": {},
   "outputs": [
    {
     "name": "stdout",
     "output_type": "stream",
     "text": [
      "+---+--------------------+-------------+-----------+-----------+---------+-----------+---------+-----------------+-------+------+---------+-----+-------------+\n",
      "|_c0|            car_name|        Brand|      model|vehicle_age|km_driven|seller_type|fuel_type|transmission_type|mileage|engine|max_power|seats|selling_price|\n",
      "+---+--------------------+-------------+-----------+-----------+---------+-----------+---------+-----------------+-------+------+---------+-----+-------------+\n",
      "|  0|         Maruti Alto|       Maruti|       Alto|          9|   120000| Individual|   Petrol|           Manual|   19.7|   796|     46.3|    5|       120000|\n",
      "|  1|       Hyundai Grand|      Hyundai|      Grand|          5|    20000| Individual|   Petrol|           Manual|   18.9|  1197|     82.0|    5|       550000|\n",
      "|  2|         Hyundai i20|      Hyundai|        i20|         11|    60000| Individual|   Petrol|           Manual|   17.0|  1197|     80.0|    5|       215000|\n",
      "|  3|         Maruti Alto|       Maruti|       Alto|          9|    37000| Individual|   Petrol|           Manual|  20.92|   998|     67.1|    5|       226000|\n",
      "|  4|       Ford Ecosport|         Ford|   Ecosport|          6|    30000|     Dealer|   Diesel|           Manual|  22.77|  1498|    98.59|    5|       570000|\n",
      "|  5|      Maruti Wagon R|       Maruti|    Wagon R|          8|    35000| Individual|   Petrol|           Manual|   18.9|   998|     67.1|    5|       350000|\n",
      "|  6|         Hyundai i10|      Hyundai|        i10|          8|    40000|     Dealer|   Petrol|           Manual|  20.36|  1197|     78.9|    5|       315000|\n",
      "|  7|      Maruti Wagon R|       Maruti|    Wagon R|          3|    17512|     Dealer|   Petrol|           Manual|  20.51|   998|    67.04|    5|       410000|\n",
      "|  8|       Hyundai Venue|      Hyundai|      Venue|          2|    20000| Individual|   Petrol|        Automatic|  18.15|   998|   118.35|    5|      1050000|\n",
      "| 12|        Maruti Swift|       Maruti|      Swift|          4|    28321|     Dealer|   Petrol|           Manual|   16.6|  1197|     85.0|    5|       511000|\n",
      "| 14|       Hyundai Verna|      Hyundai|      Verna|          8|    65278|     Dealer|   Diesel|           Manual|  22.32|  1582|   126.32|    5|       425000|\n",
      "| 15|      Renault Duster|      Renault|     Duster|          5|    50000| Individual|   Diesel|           Manual|  19.64|  1461|   108.45|    5|       750000|\n",
      "| 16|         Mini Cooper|         Mini|     Cooper|          4|     6000|     Dealer|   Petrol|        Automatic|  14.41|  1998|   189.08|    5|      3250000|\n",
      "| 17|         Maruti Ciaz|       Maruti|       Ciaz|          5|    76000|     Dealer|   Diesel|           Manual|  28.09|  1248|     88.5|    5|       650000|\n",
      "| 18|        Maruti Swift|       Maruti|      Swift|          5|    20000| Individual|   Diesel|           Manual|   25.2|  1248|     74.0|    5|       627000|\n",
      "| 19|Mercedes-Benz C-C...|Mercedes-Benz|    C-Class|          7|    65000|     Dealer|   Diesel|        Automatic|  19.27|  2143|    170.0|    5|      1425000|\n",
      "| 20|        Maruti Swift|       Maruti|      Swift|          7|    62200|     Dealer|   Diesel|           Manual|   28.4|  1248|     74.0|    5|       425000|\n",
      "| 21|       Toyota Innova|       Toyota|     Innova|          8|   110000| Individual|   Diesel|           Manual|  12.99|  2494|    100.6|    8|       605000|\n",
      "| 22|       Maruti Baleno|       Maruti|     Baleno|          6|    20000| Individual|   Petrol|           Manual|   21.4|  1197|     83.1|    5|       600000|\n",
      "| 23|  Maruti Swift Dzire|       Maruti|Swift Dzire|          5|    40000| Individual|   Petrol|           Manual|  20.85|  1197|    83.14|    5|       575000|\n",
      "+---+--------------------+-------------+-----------+-----------+---------+-----------+---------+-----------------+-------+------+---------+-----+-------------+\n",
      "only showing top 20 rows\n",
      "\n"
     ]
    }
   ],
   "source": [
    "df_pyspark.withColumnRenamed('brand','Brand').show()"
   ]
  },
  {
   "cell_type": "code",
   "execution_count": 30,
   "id": "cbfa2a9a",
   "metadata": {},
   "outputs": [
    {
     "name": "stdout",
     "output_type": "stream",
     "text": [
      "+---+--------------------+-------------+-----------+-----------+---------+-----------+---------+-----------------+-------+------+---------+-----+-------------+\n",
      "|_c0|            car_name|        brand|      model|vehicle_age|km_driven|seller_type|fuel_type|transmission_type|mileage|engine|max_power|seats|selling_price|\n",
      "+---+--------------------+-------------+-----------+-----------+---------+-----------+---------+-----------------+-------+------+---------+-----+-------------+\n",
      "|  0|         Maruti Alto|       Maruti|       Alto|          9|   120000| Individual|   Petrol|           Manual|   19.7|   796|     46.3|    5|       120000|\n",
      "|  1|       Hyundai Grand|      Hyundai|      Grand|          5|    20000| Individual|   Petrol|           Manual|   18.9|  1197|     82.0|    5|       550000|\n",
      "|  2|         Hyundai i20|      Hyundai|        i20|         11|    60000| Individual|   Petrol|           Manual|   17.0|  1197|     80.0|    5|       215000|\n",
      "|  3|         Maruti Alto|       Maruti|       Alto|          9|    37000| Individual|   Petrol|           Manual|  20.92|   998|     67.1|    5|       226000|\n",
      "|  4|       Ford Ecosport|         Ford|   Ecosport|          6|    30000|     Dealer|   Diesel|           Manual|  22.77|  1498|    98.59|    5|       570000|\n",
      "|  5|      Maruti Wagon R|       Maruti|    Wagon R|          8|    35000| Individual|   Petrol|           Manual|   18.9|   998|     67.1|    5|       350000|\n",
      "|  6|         Hyundai i10|      Hyundai|        i10|          8|    40000|     Dealer|   Petrol|           Manual|  20.36|  1197|     78.9|    5|       315000|\n",
      "|  7|      Maruti Wagon R|       Maruti|    Wagon R|          3|    17512|     Dealer|   Petrol|           Manual|  20.51|   998|    67.04|    5|       410000|\n",
      "|  8|       Hyundai Venue|      Hyundai|      Venue|          2|    20000| Individual|   Petrol|        Automatic|  18.15|   998|   118.35|    5|      1050000|\n",
      "| 12|        Maruti Swift|       Maruti|      Swift|          4|    28321|     Dealer|   Petrol|           Manual|   16.6|  1197|     85.0|    5|       511000|\n",
      "| 14|       Hyundai Verna|      Hyundai|      Verna|          8|    65278|     Dealer|   Diesel|           Manual|  22.32|  1582|   126.32|    5|       425000|\n",
      "| 15|      Renault Duster|      Renault|     Duster|          5|    50000| Individual|   Diesel|           Manual|  19.64|  1461|   108.45|    5|       750000|\n",
      "| 16|         Mini Cooper|         Mini|     Cooper|          4|     6000|     Dealer|   Petrol|        Automatic|  14.41|  1998|   189.08|    5|      3250000|\n",
      "| 17|         Maruti Ciaz|       Maruti|       Ciaz|          5|    76000|     Dealer|   Diesel|           Manual|  28.09|  1248|     88.5|    5|       650000|\n",
      "| 18|        Maruti Swift|       Maruti|      Swift|          5|    20000| Individual|   Diesel|           Manual|   25.2|  1248|     74.0|    5|       627000|\n",
      "| 19|Mercedes-Benz C-C...|Mercedes-Benz|    C-Class|          7|    65000|     Dealer|   Diesel|        Automatic|  19.27|  2143|    170.0|    5|      1425000|\n",
      "| 20|        Maruti Swift|       Maruti|      Swift|          7|    62200|     Dealer|   Diesel|           Manual|   28.4|  1248|     74.0|    5|       425000|\n",
      "| 21|       Toyota Innova|       Toyota|     Innova|          8|   110000| Individual|   Diesel|           Manual|  12.99|  2494|    100.6|    8|       605000|\n",
      "| 22|       Maruti Baleno|       Maruti|     Baleno|          6|    20000| Individual|   Petrol|           Manual|   21.4|  1197|     83.1|    5|       600000|\n",
      "| 23|  Maruti Swift Dzire|       Maruti|Swift Dzire|          5|    40000| Individual|   Petrol|           Manual|  20.85|  1197|    83.14|    5|       575000|\n",
      "+---+--------------------+-------------+-----------+-----------+---------+-----------+---------+-----------------+-------+------+---------+-----+-------------+\n",
      "only showing top 20 rows\n",
      "\n"
     ]
    }
   ],
   "source": [
    "df_pyspark.show()"
   ]
  },
  {
   "cell_type": "code",
   "execution_count": 31,
   "id": "357d99ee",
   "metadata": {},
   "outputs": [],
   "source": [
    "spark=SparkSession.builder.appName('linearexample').getOrCreate()"
   ]
  },
  {
   "cell_type": "code",
   "execution_count": 32,
   "id": "8a66cfc0",
   "metadata": {},
   "outputs": [],
   "source": [
    "from pyspark.ml.regression import LinearRegression"
   ]
  },
  {
   "cell_type": "code",
   "execution_count": 33,
   "id": "b0818c2c",
   "metadata": {},
   "outputs": [],
   "source": [
    "dataset=spark.read.csv('Ecommerce_Customers.csv',inferSchema=True,header=True)"
   ]
  },
  {
   "cell_type": "code",
   "execution_count": 34,
   "id": "d4d276be",
   "metadata": {},
   "outputs": [
    {
     "data": {
      "text/plain": [
       "DataFrame[Email: string, Address: string, Avg Session Length: double, Time on App: double, Time on Website: double, Length of Membership: double, Yearly Amount Spent: double]"
      ]
     },
     "execution_count": 34,
     "metadata": {},
     "output_type": "execute_result"
    }
   ],
   "source": [
    "dataset"
   ]
  },
  {
   "cell_type": "code",
   "execution_count": 35,
   "id": "db09494d",
   "metadata": {},
   "outputs": [
    {
     "name": "stdout",
     "output_type": "stream",
     "text": [
      "+--------------------+--------------------+------------------+-----------+---------------+--------------------+-------------------+\n",
      "|               Email|             Address|Avg Session Length|Time on App|Time on Website|Length of Membership|Yearly Amount Spent|\n",
      "+--------------------+--------------------+------------------+-----------+---------------+--------------------+-------------------+\n",
      "|mstephenson@ferna...|835 Frank TunnelW...|       34.49726773|12.65565115|    39.57766802|         4.082620633|         587.951054|\n",
      "|   hduke@hotmail.com|4547 Archer Commo...|       31.92627203|11.10946073|    37.26895887|         2.664034182|        392.2049334|\n",
      "|    pallen@yahoo.com|24645 Valerie Uni...|       33.00091476|11.33027806|    37.11059744|         4.104543202|        487.5475049|\n",
      "|riverarebecca@gma...|1414 David Throug...|       34.30555663|13.71751367|    36.72128268|         3.120178783|         581.852344|\n",
      "|mstephens@davidso...|14023 Rodriguez P...|       33.33067252|12.79518855|     37.5366533|         4.446308318|         599.406092|\n",
      "|alvareznancy@luca...|645 Martha Park A...|       33.87103788|12.02692534|    34.47687763|         5.493507201|        637.1024479|\n",
      "|katherine20@yahoo...|68388 Reyes Light...|        32.0215955|11.36634831|    36.68377615|         4.685017247|        521.5721748|\n",
      "|  awatkins@yahoo.com|Unit 6538 Box 898...|       32.73914294|12.35195897|    37.37335886|         4.434273435|        549.9041461|\n",
      "|vchurch@walter-ma...|860 Lee KeyWest D...|        33.9877729|13.38623528|    37.53449734|         3.273433578|         570.200409|\n",
      "|    bonnie69@lin.biz|PSC 2734, Box 525...|       31.93654862|11.81412829|    37.14516822|         3.202806072|        427.1993849|\n",
      "|andrew06@peterson...|26104 Alexander G...|       33.99257277|13.33897545|    37.22580613|         2.482607771|        492.6060127|\n",
      "|ryanwerner@freema...|Unit 2413 Box 034...|       33.87936082|  11.584783|    37.08792607|         3.713209203|        522.3374046|\n",
      "|   knelson@gmail.com|6705 Miller Orcha...|       29.53242897| 10.9612984|    37.42021558|         4.046423164|        408.6403511|\n",
      "|wrightpeter@yahoo...|05302 Dunlap Ferr...|       33.19033404|12.95922609|     36.1446667|         3.918541839|        573.4158673|\n",
      "|taylormason@gmail...|7773 Powell Sprin...|       32.38797585|13.14872569|    36.61995708|         2.494543647|        470.4527333|\n",
      "| jstark@anderson.com|49558 Ramirez Roa...|       30.73772037|12.63660605|    36.21376309|         3.357846842|        461.7807422|\n",
      "| wjennings@gmail.com|6362 Wilson Mount...|        32.1253869|11.73386169|    34.89409275|         3.136132716|        457.8476959|\n",
      "|rebecca45@hale-ba...|8982 Burton RowWi...|       32.33889932|12.01319469|    38.38513659|         2.420806161|        407.7045475|\n",
      "|alejandro75@hotma...|64475 Andre Club ...|       32.18781205|14.71538754|    38.24411459|         1.516575581|        452.3156755|\n",
      "|samuel46@love-wes...|544 Alexander Hei...|       32.61785606|13.98959256|     37.1905038|          4.06454855|        605.0610388|\n",
      "+--------------------+--------------------+------------------+-----------+---------------+--------------------+-------------------+\n",
      "only showing top 20 rows\n",
      "\n"
     ]
    }
   ],
   "source": [
    "dataset.show()"
   ]
  },
  {
   "cell_type": "code",
   "execution_count": 36,
   "id": "001e8880",
   "metadata": {},
   "outputs": [
    {
     "name": "stdout",
     "output_type": "stream",
     "text": [
      "root\n",
      " |-- Email: string (nullable = true)\n",
      " |-- Address: string (nullable = true)\n",
      " |-- Avg Session Length: double (nullable = true)\n",
      " |-- Time on App: double (nullable = true)\n",
      " |-- Time on Website: double (nullable = true)\n",
      " |-- Length of Membership: double (nullable = true)\n",
      " |-- Yearly Amount Spent: double (nullable = true)\n",
      "\n"
     ]
    }
   ],
   "source": [
    "dataset.printSchema()"
   ]
  },
  {
   "cell_type": "code",
   "execution_count": null,
   "id": "37e51c79",
   "metadata": {},
   "outputs": [],
   "source": [
    "x1,x2,x3     y1 --------[x1,x2,x3]"
   ]
  },
  {
   "cell_type": "code",
   "execution_count": 38,
   "id": "4da60460",
   "metadata": {},
   "outputs": [],
   "source": [
    "from pyspark.ml.linalg import Vectors"
   ]
  },
  {
   "cell_type": "code",
   "execution_count": 40,
   "id": "ddefb70e",
   "metadata": {},
   "outputs": [],
   "source": [
    "from pyspark.ml.feature import VectorAssembler"
   ]
  },
  {
   "cell_type": "code",
   "execution_count": 42,
   "id": "2388a50a",
   "metadata": {},
   "outputs": [],
   "source": [
    "featureassembler=VectorAssembler(inputCols=['Avg Session Length','Time on App','Time on Website','Length of Membership'],outputCol='Independent Features')"
   ]
  },
  {
   "cell_type": "code",
   "execution_count": 43,
   "id": "d6998775",
   "metadata": {},
   "outputs": [],
   "source": [
    "output=featureassembler.transform(dataset)"
   ]
  },
  {
   "cell_type": "code",
   "execution_count": 44,
   "id": "b8448065",
   "metadata": {},
   "outputs": [
    {
     "name": "stdout",
     "output_type": "stream",
     "text": [
      "+--------------------+--------------------+------------------+-----------+---------------+--------------------+-------------------+--------------------+\n",
      "|               Email|             Address|Avg Session Length|Time on App|Time on Website|Length of Membership|Yearly Amount Spent|Independent Features|\n",
      "+--------------------+--------------------+------------------+-----------+---------------+--------------------+-------------------+--------------------+\n",
      "|mstephenson@ferna...|835 Frank TunnelW...|       34.49726773|12.65565115|    39.57766802|         4.082620633|         587.951054|[34.49726773,12.6...|\n",
      "|   hduke@hotmail.com|4547 Archer Commo...|       31.92627203|11.10946073|    37.26895887|         2.664034182|        392.2049334|[31.92627203,11.1...|\n",
      "|    pallen@yahoo.com|24645 Valerie Uni...|       33.00091476|11.33027806|    37.11059744|         4.104543202|        487.5475049|[33.00091476,11.3...|\n",
      "|riverarebecca@gma...|1414 David Throug...|       34.30555663|13.71751367|    36.72128268|         3.120178783|         581.852344|[34.30555663,13.7...|\n",
      "|mstephens@davidso...|14023 Rodriguez P...|       33.33067252|12.79518855|     37.5366533|         4.446308318|         599.406092|[33.33067252,12.7...|\n",
      "|alvareznancy@luca...|645 Martha Park A...|       33.87103788|12.02692534|    34.47687763|         5.493507201|        637.1024479|[33.87103788,12.0...|\n",
      "|katherine20@yahoo...|68388 Reyes Light...|        32.0215955|11.36634831|    36.68377615|         4.685017247|        521.5721748|[32.0215955,11.36...|\n",
      "|  awatkins@yahoo.com|Unit 6538 Box 898...|       32.73914294|12.35195897|    37.37335886|         4.434273435|        549.9041461|[32.73914294,12.3...|\n",
      "|vchurch@walter-ma...|860 Lee KeyWest D...|        33.9877729|13.38623528|    37.53449734|         3.273433578|         570.200409|[33.9877729,13.38...|\n",
      "|    bonnie69@lin.biz|PSC 2734, Box 525...|       31.93654862|11.81412829|    37.14516822|         3.202806072|        427.1993849|[31.93654862,11.8...|\n",
      "|andrew06@peterson...|26104 Alexander G...|       33.99257277|13.33897545|    37.22580613|         2.482607771|        492.6060127|[33.99257277,13.3...|\n",
      "|ryanwerner@freema...|Unit 2413 Box 034...|       33.87936082|  11.584783|    37.08792607|         3.713209203|        522.3374046|[33.87936082,11.5...|\n",
      "|   knelson@gmail.com|6705 Miller Orcha...|       29.53242897| 10.9612984|    37.42021558|         4.046423164|        408.6403511|[29.53242897,10.9...|\n",
      "|wrightpeter@yahoo...|05302 Dunlap Ferr...|       33.19033404|12.95922609|     36.1446667|         3.918541839|        573.4158673|[33.19033404,12.9...|\n",
      "|taylormason@gmail...|7773 Powell Sprin...|       32.38797585|13.14872569|    36.61995708|         2.494543647|        470.4527333|[32.38797585,13.1...|\n",
      "| jstark@anderson.com|49558 Ramirez Roa...|       30.73772037|12.63660605|    36.21376309|         3.357846842|        461.7807422|[30.73772037,12.6...|\n",
      "| wjennings@gmail.com|6362 Wilson Mount...|        32.1253869|11.73386169|    34.89409275|         3.136132716|        457.8476959|[32.1253869,11.73...|\n",
      "|rebecca45@hale-ba...|8982 Burton RowWi...|       32.33889932|12.01319469|    38.38513659|         2.420806161|        407.7045475|[32.33889932,12.0...|\n",
      "|alejandro75@hotma...|64475 Andre Club ...|       32.18781205|14.71538754|    38.24411459|         1.516575581|        452.3156755|[32.18781205,14.7...|\n",
      "|samuel46@love-wes...|544 Alexander Hei...|       32.61785606|13.98959256|     37.1905038|          4.06454855|        605.0610388|[32.61785606,13.9...|\n",
      "+--------------------+--------------------+------------------+-----------+---------------+--------------------+-------------------+--------------------+\n",
      "only showing top 20 rows\n",
      "\n"
     ]
    }
   ],
   "source": [
    "output.show()"
   ]
  },
  {
   "cell_type": "code",
   "execution_count": 45,
   "id": "13699493",
   "metadata": {},
   "outputs": [
    {
     "name": "stdout",
     "output_type": "stream",
     "text": [
      "+--------------------+\n",
      "|Independent Features|\n",
      "+--------------------+\n",
      "|[34.49726773,12.6...|\n",
      "|[31.92627203,11.1...|\n",
      "|[33.00091476,11.3...|\n",
      "|[34.30555663,13.7...|\n",
      "|[33.33067252,12.7...|\n",
      "|[33.87103788,12.0...|\n",
      "|[32.0215955,11.36...|\n",
      "|[32.73914294,12.3...|\n",
      "|[33.9877729,13.38...|\n",
      "|[31.93654862,11.8...|\n",
      "|[33.99257277,13.3...|\n",
      "|[33.87936082,11.5...|\n",
      "|[29.53242897,10.9...|\n",
      "|[33.19033404,12.9...|\n",
      "|[32.38797585,13.1...|\n",
      "|[30.73772037,12.6...|\n",
      "|[32.1253869,11.73...|\n",
      "|[32.33889932,12.0...|\n",
      "|[32.18781205,14.7...|\n",
      "|[32.61785606,13.9...|\n",
      "+--------------------+\n",
      "only showing top 20 rows\n",
      "\n"
     ]
    }
   ],
   "source": [
    "output.select('Independent Features').show()"
   ]
  },
  {
   "cell_type": "code",
   "execution_count": 46,
   "id": "b76d5697",
   "metadata": {},
   "outputs": [
    {
     "data": {
      "text/plain": [
       "['Email',\n",
       " 'Address',\n",
       " 'Avg Session Length',\n",
       " 'Time on App',\n",
       " 'Time on Website',\n",
       " 'Length of Membership',\n",
       " 'Yearly Amount Spent',\n",
       " 'Independent Features']"
      ]
     },
     "execution_count": 46,
     "metadata": {},
     "output_type": "execute_result"
    }
   ],
   "source": [
    "output.columns"
   ]
  },
  {
   "cell_type": "code",
   "execution_count": 48,
   "id": "1e5d4c8e",
   "metadata": {},
   "outputs": [],
   "source": [
    "finalized_data=output.select('Independent Features','Yearly Amount Spent')"
   ]
  },
  {
   "cell_type": "code",
   "execution_count": 49,
   "id": "330e25ee",
   "metadata": {},
   "outputs": [
    {
     "name": "stdout",
     "output_type": "stream",
     "text": [
      "+--------------------+-------------------+\n",
      "|Independent Features|Yearly Amount Spent|\n",
      "+--------------------+-------------------+\n",
      "|[34.49726773,12.6...|         587.951054|\n",
      "|[31.92627203,11.1...|        392.2049334|\n",
      "|[33.00091476,11.3...|        487.5475049|\n",
      "|[34.30555663,13.7...|         581.852344|\n",
      "|[33.33067252,12.7...|         599.406092|\n",
      "|[33.87103788,12.0...|        637.1024479|\n",
      "|[32.0215955,11.36...|        521.5721748|\n",
      "|[32.73914294,12.3...|        549.9041461|\n",
      "|[33.9877729,13.38...|         570.200409|\n",
      "|[31.93654862,11.8...|        427.1993849|\n",
      "|[33.99257277,13.3...|        492.6060127|\n",
      "|[33.87936082,11.5...|        522.3374046|\n",
      "|[29.53242897,10.9...|        408.6403511|\n",
      "|[33.19033404,12.9...|        573.4158673|\n",
      "|[32.38797585,13.1...|        470.4527333|\n",
      "|[30.73772037,12.6...|        461.7807422|\n",
      "|[32.1253869,11.73...|        457.8476959|\n",
      "|[32.33889932,12.0...|        407.7045475|\n",
      "|[32.18781205,14.7...|        452.3156755|\n",
      "|[32.61785606,13.9...|        605.0610388|\n",
      "+--------------------+-------------------+\n",
      "only showing top 20 rows\n",
      "\n"
     ]
    }
   ],
   "source": [
    "finalized_data.show()"
   ]
  },
  {
   "cell_type": "code",
   "execution_count": 50,
   "id": "e2bdceb6",
   "metadata": {},
   "outputs": [],
   "source": [
    "train_data,test_data=finalized_data.randomSplit([0.75,0.25])"
   ]
  },
  {
   "cell_type": "code",
   "execution_count": 52,
   "id": "ac498ee0",
   "metadata": {},
   "outputs": [],
   "source": [
    "regressor=LinearRegression(featuresCol='Independent Features',labelCol='Yearly Amount Spent')"
   ]
  },
  {
   "cell_type": "code",
   "execution_count": 53,
   "id": "6e096372",
   "metadata": {},
   "outputs": [],
   "source": [
    "regressor=regressor.fit(train_data)"
   ]
  },
  {
   "cell_type": "code",
   "execution_count": 54,
   "id": "9d964bbe",
   "metadata": {},
   "outputs": [
    {
     "data": {
      "text/plain": [
       "DenseVector([25.5925, 38.8271, 0.4124, 61.6681])"
      ]
     },
     "execution_count": 54,
     "metadata": {},
     "output_type": "execute_result"
    }
   ],
   "source": [
    "regressor.coefficients"
   ]
  },
  {
   "cell_type": "code",
   "execution_count": 55,
   "id": "a1589c60",
   "metadata": {},
   "outputs": [
    {
     "data": {
      "text/plain": [
       "-1047.9273551969943"
      ]
     },
     "execution_count": 55,
     "metadata": {},
     "output_type": "execute_result"
    }
   ],
   "source": [
    "regressor.intercept"
   ]
  },
  {
   "cell_type": "code",
   "execution_count": 56,
   "id": "c299fc52",
   "metadata": {},
   "outputs": [],
   "source": [
    "pred_results=regressor.evaluate(test_data)"
   ]
  },
  {
   "cell_type": "code",
   "execution_count": 57,
   "id": "8d83d39e",
   "metadata": {},
   "outputs": [
    {
     "name": "stdout",
     "output_type": "stream",
     "text": [
      "+--------------------+-------------------+------------------+\n",
      "|Independent Features|Yearly Amount Spent|        prediction|\n",
      "+--------------------+-------------------+------------------+\n",
      "|[29.53242897,10.9...|        408.6403511| 398.4432346137821|\n",
      "|[30.4925367,11.56...|        282.4712457| 287.6125824029293|\n",
      "|[30.81620065,11.8...|        266.0863409|283.00306867576296|\n",
      "|[30.87948434,13.2...|           490.2066|494.31825293141287|\n",
      "|[31.06621816,11.7...|        448.9332932| 462.0046729270923|\n",
      "|[31.26064687,13.2...|        421.3266313|422.28377523832637|\n",
      "|[31.36621217,11.1...|        430.5888826|426.80032716069013|\n",
      "|[31.5261979,12.04...|        409.0945262|418.08393830643945|\n",
      "|[31.57613197,12.5...|         541.226584| 543.4010907542972|\n",
      "|[31.60983957,12.7...|        444.5455497|427.52558013458975|\n",
      "|[31.82797906,12.4...|        440.0027475|449.34168721543415|\n",
      "|[31.8854063,11.28...|         390.103273|398.99442966345805|\n",
      "|[31.92627203,11.1...|        392.2049334| 380.1487100463037|\n",
      "|[31.93654862,11.8...|        427.1993849|440.94592363832294|\n",
      "|[31.97648006,10.7...|         330.594446|325.10848936222146|\n",
      "|[32.00475302,11.3...|        463.7459811| 463.5387452377845|\n",
      "|[32.04983939,12.2...|        478.7193569| 455.8877353393616|\n",
      "|[32.06377462,10.7...|        378.3309069|  389.706838748094|\n",
      "|[32.07894758,12.7...|        357.8637186|352.47922283939783|\n",
      "|[32.11511907,11.9...|        350.0582002|  341.991233458858|\n",
      "|[32.17909997,11.1...|        451.5756852|445.57832495784214|\n",
      "|[32.18781205,14.7...|        452.3156755|456.49044363267035|\n",
      "|[32.18984473,11.3...|        533.3965538| 530.2785002617911|\n",
      "|[32.27184828,13.4...|          511.97986| 507.3874588745209|\n",
      "|[32.2917561,12.19...|        494.5518611| 499.9465319790072|\n",
      "|[32.29524763,11.0...|        413.2959992|414.31077192076214|\n",
      "|[32.30274837,12.8...|        576.0252441| 576.6428303041664|\n",
      "|[32.33598964,13.0...|        486.8389348| 485.0767307833346|\n",
      "|[32.37798966,11.9...|        408.2169018|435.37711193397104|\n",
      "|[32.38103459,12.4...|        532.7248055|  546.312764128287|\n",
      "|[32.38797585,13.1...|        470.4527333| 460.4238688974017|\n",
      "|[32.40237102,10.8...|        338.3198626|337.21512853160357|\n",
      "|[32.40429505,11.6...|        447.3690272|430.78123948017014|\n",
      "|[32.43083858,13.8...|        557.6082621| 569.7612543484358|\n",
      "|[32.44952156,13.4...|        503.9783791| 501.8091698649953|\n",
      "|[32.45455254,11.8...|        490.6004425|482.47297018611175|\n",
      "|[32.45517629,12.7...|        542.7115581| 547.9439677950509|\n",
      "|[32.49839307,13.4...|         518.064558| 515.7197810283596|\n",
      "|[32.51819681,11.5...|        424.7287739|  432.660951006035|\n",
      "|[32.52976873,11.7...|        298.7620079| 305.3822340372633|\n",
      "+--------------------+-------------------+------------------+\n",
      "only showing top 40 rows\n",
      "\n"
     ]
    }
   ],
   "source": [
    "pred_results.predictions.show(40)"
   ]
  },
  {
   "cell_type": "code",
   "execution_count": null,
   "id": "168554bd",
   "metadata": {},
   "outputs": [],
   "source": []
  }
 ],
 "metadata": {
  "kernelspec": {
   "display_name": "Python 3.8.10 64-bit",
   "language": "python",
   "name": "python3"
  },
  "language_info": {
   "codemirror_mode": {
    "name": "ipython",
    "version": 3
   },
   "file_extension": ".py",
   "mimetype": "text/x-python",
   "name": "python",
   "nbconvert_exporter": "python",
   "pygments_lexer": "ipython3",
   "version": "3.8.10"
  },
  "vscode": {
   "interpreter": {
    "hash": "e7370f93d1d0cde622a1f8e1c04877d8463912d04d973331ad4851f04de6915a"
   }
  }
 },
 "nbformat": 4,
 "nbformat_minor": 5
}
